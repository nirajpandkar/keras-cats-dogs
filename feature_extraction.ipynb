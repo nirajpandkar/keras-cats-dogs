{
 "cells": [
  {
   "cell_type": "markdown",
   "metadata": {},
   "source": [
    "# Initialize Vgg16 Model"
   ]
  },
  {
   "cell_type": "code",
   "execution_count": 1,
   "metadata": {
    "ExecuteTime": {
     "end_time": "2018-03-11T05:37:06.762698Z",
     "start_time": "2018-03-11T05:37:05.732752Z"
    }
   },
   "outputs": [
    {
     "name": "stderr",
     "output_type": "stream",
     "text": [
      "Using TensorFlow backend.\n",
      "/home/niraj/anaconda3/envs/fastai/lib/python3.6/importlib/_bootstrap.py:219: RuntimeWarning: compiletime version 3.5 of module 'tensorflow.python.framework.fast_tensor_util' does not match runtime version 3.6\n",
      "  return f(*args, **kwds)\n"
     ]
    }
   ],
   "source": [
    "from keras.applications.vgg16 import VGG16\n",
    "from keras.preprocessing import image\n",
    "from keras.applications.vgg16 import preprocess_input\n",
    "import numpy as np"
   ]
  },
  {
   "cell_type": "code",
   "execution_count": 2,
   "metadata": {
    "ExecuteTime": {
     "end_time": "2018-03-11T05:37:07.169995Z",
     "start_time": "2018-03-11T05:37:06.763811Z"
    }
   },
   "outputs": [],
   "source": [
    "model = VGG16(weights='imagenet', include_top=False)"
   ]
  },
  {
   "cell_type": "code",
   "execution_count": 3,
   "metadata": {
    "ExecuteTime": {
     "end_time": "2018-03-11T05:37:07.174235Z",
     "start_time": "2018-03-11T05:37:07.171098Z"
    }
   },
   "outputs": [
    {
     "name": "stdout",
     "output_type": "stream",
     "text": [
      "_________________________________________________________________\n",
      "Layer (type)                 Output Shape              Param #   \n",
      "=================================================================\n",
      "input_1 (InputLayer)         (None, None, None, 3)     0         \n",
      "_________________________________________________________________\n",
      "block1_conv1 (Conv2D)        (None, None, None, 64)    1792      \n",
      "_________________________________________________________________\n",
      "block1_conv2 (Conv2D)        (None, None, None, 64)    36928     \n",
      "_________________________________________________________________\n",
      "block1_pool (MaxPooling2D)   (None, None, None, 64)    0         \n",
      "_________________________________________________________________\n",
      "block2_conv1 (Conv2D)        (None, None, None, 128)   73856     \n",
      "_________________________________________________________________\n",
      "block2_conv2 (Conv2D)        (None, None, None, 128)   147584    \n",
      "_________________________________________________________________\n",
      "block2_pool (MaxPooling2D)   (None, None, None, 128)   0         \n",
      "_________________________________________________________________\n",
      "block3_conv1 (Conv2D)        (None, None, None, 256)   295168    \n",
      "_________________________________________________________________\n",
      "block3_conv2 (Conv2D)        (None, None, None, 256)   590080    \n",
      "_________________________________________________________________\n",
      "block3_conv3 (Conv2D)        (None, None, None, 256)   590080    \n",
      "_________________________________________________________________\n",
      "block3_pool (MaxPooling2D)   (None, None, None, 256)   0         \n",
      "_________________________________________________________________\n",
      "block4_conv1 (Conv2D)        (None, None, None, 512)   1180160   \n",
      "_________________________________________________________________\n",
      "block4_conv2 (Conv2D)        (None, None, None, 512)   2359808   \n",
      "_________________________________________________________________\n",
      "block4_conv3 (Conv2D)        (None, None, None, 512)   2359808   \n",
      "_________________________________________________________________\n",
      "block4_pool (MaxPooling2D)   (None, None, None, 512)   0         \n",
      "_________________________________________________________________\n",
      "block5_conv1 (Conv2D)        (None, None, None, 512)   2359808   \n",
      "_________________________________________________________________\n",
      "block5_conv2 (Conv2D)        (None, None, None, 512)   2359808   \n",
      "_________________________________________________________________\n",
      "block5_conv3 (Conv2D)        (None, None, None, 512)   2359808   \n",
      "_________________________________________________________________\n",
      "block5_pool (MaxPooling2D)   (None, None, None, 512)   0         \n",
      "=================================================================\n",
      "Total params: 14,714,688\n",
      "Trainable params: 14,714,688\n",
      "Non-trainable params: 0\n",
      "_________________________________________________________________\n"
     ]
    }
   ],
   "source": [
    "model.summary()"
   ]
  },
  {
   "cell_type": "markdown",
   "metadata": {},
   "source": [
    "# Initialize Image Generator for train and validation data"
   ]
  },
  {
   "cell_type": "code",
   "execution_count": 4,
   "metadata": {
    "ExecuteTime": {
     "end_time": "2018-03-11T05:37:07.180393Z",
     "start_time": "2018-03-11T05:37:07.175279Z"
    }
   },
   "outputs": [],
   "source": [
    "from keras.preprocessing.image import ImageDataGenerator"
   ]
  },
  {
   "cell_type": "code",
   "execution_count": 5,
   "metadata": {
    "ExecuteTime": {
     "end_time": "2018-03-11T05:37:07.184823Z",
     "start_time": "2018-03-11T05:37:07.181350Z"
    }
   },
   "outputs": [],
   "source": [
    "train_data_path = \"../catsdogs/data/train/\"\n",
    "val_data_path = \"../catsdogs/data/valid/\""
   ]
  },
  {
   "cell_type": "code",
   "execution_count": 31,
   "metadata": {
    "ExecuteTime": {
     "end_time": "2018-03-11T06:28:00.807952Z",
     "start_time": "2018-03-11T06:28:00.229452Z"
    }
   },
   "outputs": [
    {
     "name": "stdout",
     "output_type": "stream",
     "text": [
      "Found 23000 images belonging to 2 classes.\n"
     ]
    }
   ],
   "source": [
    "train_datagen = ImageDataGenerator(preprocessing_function=preprocess_input)\n",
    "train_generator = train_datagen.flow_from_directory(train_data_path, \n",
    "                                    batch_size=64, \n",
    "                                    class_mode=\"categorical\",\n",
    "                                    shuffle=False,\n",
    "                                    target_size=(224,224))"
   ]
  },
  {
   "cell_type": "code",
   "execution_count": 32,
   "metadata": {
    "ExecuteTime": {
     "end_time": "2018-03-11T06:28:01.689529Z",
     "start_time": "2018-03-11T06:28:01.579413Z"
    }
   },
   "outputs": [
    {
     "name": "stdout",
     "output_type": "stream",
     "text": [
      "Found 2000 images belonging to 2 classes.\n"
     ]
    }
   ],
   "source": [
    "val_datagen = ImageDataGenerator(preprocessing_function=preprocess_input)\n",
    "val_generator = val_datagen.flow_from_directory(val_data_path, \n",
    "                                    batch_size=64, \n",
    "                                    class_mode=\"categorical\",\n",
    "                                    shuffle=False,\n",
    "                                    target_size=(224,224))"
   ]
  },
  {
   "cell_type": "markdown",
   "metadata": {
    "ExecuteTime": {
     "end_time": "2018-03-11T04:01:42.221552Z",
     "start_time": "2018-03-11T04:01:42.219864Z"
    }
   },
   "source": [
    "# Check whether labels are correct"
   ]
  },
  {
   "cell_type": "code",
   "execution_count": 33,
   "metadata": {
    "ExecuteTime": {
     "end_time": "2018-03-11T06:28:08.474292Z",
     "start_time": "2018-03-11T06:28:08.467293Z"
    }
   },
   "outputs": [
    {
     "name": "stdout",
     "output_type": "stream",
     "text": [
      "23000\n",
      "2000\n"
     ]
    }
   ],
   "source": [
    "print(train_generator.samples)\n",
    "print(val_generator.samples)"
   ]
  },
  {
   "cell_type": "code",
   "execution_count": 9,
   "metadata": {
    "ExecuteTime": {
     "end_time": "2018-03-11T05:37:07.928466Z",
     "start_time": "2018-03-11T05:37:07.922112Z"
    }
   },
   "outputs": [],
   "source": [
    "# for filename, label in zip(train_generator.filenames, train_generator.classes):\n",
    "#    print(\"Filename: {}\\tLabel:{}\".format(filename,label))"
   ]
  },
  {
   "cell_type": "code",
   "execution_count": 10,
   "metadata": {
    "ExecuteTime": {
     "end_time": "2018-03-11T05:37:07.937386Z",
     "start_time": "2018-03-11T05:37:07.933547Z"
    }
   },
   "outputs": [],
   "source": [
    "# for filename, label in zip(val_generator.filenames, val_generator.classes):\n",
    "#     print(\"Filename: {}\\tLabel:{}\".format(filename,label))"
   ]
  },
  {
   "cell_type": "code",
   "execution_count": 34,
   "metadata": {
    "ExecuteTime": {
     "end_time": "2018-03-11T06:28:14.463403Z",
     "start_time": "2018-03-11T06:28:14.457839Z"
    }
   },
   "outputs": [
    {
     "data": {
      "text/plain": [
       "1000"
      ]
     },
     "execution_count": 34,
     "metadata": {},
     "output_type": "execute_result"
    }
   ],
   "source": [
    "len([0 for _ in range(val_generator.samples) if val_generator.classes[_] == 1])"
   ]
  },
  {
   "cell_type": "markdown",
   "metadata": {},
   "source": [
    "# One hot encode labels"
   ]
  },
  {
   "cell_type": "code",
   "execution_count": 35,
   "metadata": {
    "ExecuteTime": {
     "end_time": "2018-03-11T06:28:17.881101Z",
     "start_time": "2018-03-11T06:28:17.879251Z"
    }
   },
   "outputs": [],
   "source": [
    "from keras.utils import to_categorical"
   ]
  },
  {
   "cell_type": "code",
   "execution_count": 36,
   "metadata": {
    "ExecuteTime": {
     "end_time": "2018-03-11T06:28:18.531038Z",
     "start_time": "2018-03-11T06:28:18.522961Z"
    }
   },
   "outputs": [],
   "source": [
    "train_labels = to_categorical(train_generator.classes, num_classes=2)\n",
    "val_labels = to_categorical(val_generator.classes, num_classes=2)"
   ]
  },
  {
   "cell_type": "code",
   "execution_count": 37,
   "metadata": {
    "ExecuteTime": {
     "end_time": "2018-03-11T06:28:20.193532Z",
     "start_time": "2018-03-11T06:28:20.190857Z"
    }
   },
   "outputs": [
    {
     "data": {
      "text/plain": [
       "64"
      ]
     },
     "execution_count": 37,
     "metadata": {},
     "output_type": "execute_result"
    }
   ],
   "source": [
    "train_generator.batch_size"
   ]
  },
  {
   "cell_type": "code",
   "execution_count": 38,
   "metadata": {
    "ExecuteTime": {
     "end_time": "2018-03-11T06:28:20.694902Z",
     "start_time": "2018-03-11T06:28:20.686294Z"
    }
   },
   "outputs": [
    {
     "data": {
      "text/plain": [
       "2000"
      ]
     },
     "execution_count": 38,
     "metadata": {},
     "output_type": "execute_result"
    }
   ],
   "source": [
    "len(val_labels)"
   ]
  },
  {
   "cell_type": "markdown",
   "metadata": {},
   "source": [
    "# Pickle the one hot encoded labels for later use"
   ]
  },
  {
   "cell_type": "code",
   "execution_count": 39,
   "metadata": {
    "ExecuteTime": {
     "end_time": "2018-03-11T06:28:23.529211Z",
     "start_time": "2018-03-11T06:28:23.523869Z"
    }
   },
   "outputs": [],
   "source": [
    "import pickle"
   ]
  },
  {
   "cell_type": "code",
   "execution_count": 40,
   "metadata": {
    "ExecuteTime": {
     "end_time": "2018-03-11T06:28:24.121536Z",
     "start_time": "2018-03-11T06:28:23.811296Z"
    }
   },
   "outputs": [],
   "source": [
    "!rm train_labels.pkl\n",
    "!rm val_labels.pkl"
   ]
  },
  {
   "cell_type": "code",
   "execution_count": 41,
   "metadata": {
    "ExecuteTime": {
     "end_time": "2018-03-11T06:28:24.164969Z",
     "start_time": "2018-03-11T06:28:24.155602Z"
    }
   },
   "outputs": [],
   "source": [
    "with open(\"train_labels.pkl\", \"wb\") as f:\n",
    "    pickle.dump(train_labels, f)\n",
    "f.close()"
   ]
  },
  {
   "cell_type": "code",
   "execution_count": 42,
   "metadata": {
    "ExecuteTime": {
     "end_time": "2018-03-11T06:28:24.787121Z",
     "start_time": "2018-03-11T06:28:24.777868Z"
    }
   },
   "outputs": [],
   "source": [
    "with open(\"val_labels.pkl\", \"wb\") as f:\n",
    "    pickle.dump(val_labels, f)\n",
    "f.close()"
   ]
  },
  {
   "cell_type": "markdown",
   "metadata": {},
   "source": [
    "# Extract the train and validation features"
   ]
  },
  {
   "cell_type": "code",
   "execution_count": 43,
   "metadata": {
    "ExecuteTime": {
     "end_time": "2018-03-11T06:29:40.631252Z",
     "start_time": "2018-03-11T06:28:28.975027Z"
    }
   },
   "outputs": [],
   "source": [
    "train_features = model.predict_generator(train_generator, steps=(train_generator.samples/train_generator.batch_size))"
   ]
  },
  {
   "cell_type": "code",
   "execution_count": 44,
   "metadata": {
    "ExecuteTime": {
     "end_time": "2018-03-11T06:29:48.214319Z",
     "start_time": "2018-03-11T06:29:40.632275Z"
    }
   },
   "outputs": [],
   "source": [
    "val_features = model.predict_generator(val_generator, steps=(val_generator.samples/val_generator.batch_size))"
   ]
  },
  {
   "cell_type": "code",
   "execution_count": 45,
   "metadata": {
    "ExecuteTime": {
     "end_time": "2018-03-11T06:29:48.217720Z",
     "start_time": "2018-03-11T06:29:48.215495Z"
    }
   },
   "outputs": [
    {
     "data": {
      "text/plain": [
       "23000"
      ]
     },
     "execution_count": 45,
     "metadata": {},
     "output_type": "execute_result"
    }
   ],
   "source": [
    "len(train_features)"
   ]
  },
  {
   "cell_type": "markdown",
   "metadata": {},
   "source": [
    "# Store the features in bcolz array"
   ]
  },
  {
   "cell_type": "code",
   "execution_count": 46,
   "metadata": {
    "ExecuteTime": {
     "end_time": "2018-03-11T06:29:48.229524Z",
     "start_time": "2018-03-11T06:29:48.218794Z"
    }
   },
   "outputs": [],
   "source": [
    "import bcolz"
   ]
  },
  {
   "cell_type": "code",
   "execution_count": 47,
   "metadata": {
    "ExecuteTime": {
     "end_time": "2018-03-11T06:29:49.070448Z",
     "start_time": "2018-03-11T06:29:48.233176Z"
    }
   },
   "outputs": [],
   "source": [
    "!rm -r train_store\n",
    "!rm -r val_store\n",
    "!mkdir train_store\n",
    "!mkdir val_store"
   ]
  },
  {
   "cell_type": "code",
   "execution_count": 48,
   "metadata": {
    "ExecuteTime": {
     "end_time": "2018-03-11T06:29:49.085878Z",
     "start_time": "2018-03-11T06:29:49.077385Z"
    }
   },
   "outputs": [],
   "source": [
    "train_store = \"train_store\"\n",
    "val_store = \"val_store\""
   ]
  },
  {
   "cell_type": "code",
   "execution_count": 49,
   "metadata": {
    "ExecuteTime": {
     "end_time": "2018-03-11T06:29:50.764770Z",
     "start_time": "2018-03-11T06:29:49.091293Z"
    }
   },
   "outputs": [],
   "source": [
    "c = bcolz.carray(train_features, rootdir=train_store, mode='w')\n",
    "d = bcolz.carray(val_features, rootdir=val_store, mode='w')\n",
    "c.flush()\n",
    "d.flush()"
   ]
  },
  {
   "cell_type": "code",
   "execution_count": 50,
   "metadata": {
    "ExecuteTime": {
     "end_time": "2018-03-11T06:29:50.780026Z",
     "start_time": "2018-03-11T06:29:50.769978Z"
    }
   },
   "outputs": [
    {
     "data": {
      "text/plain": [
       "(23000, 7, 7, 512)"
      ]
     },
     "execution_count": 50,
     "metadata": {},
     "output_type": "execute_result"
    }
   ],
   "source": [
    "train_features.shape"
   ]
  },
  {
   "cell_type": "code",
   "execution_count": 51,
   "metadata": {
    "ExecuteTime": {
     "end_time": "2018-03-11T06:29:50.881259Z",
     "start_time": "2018-03-11T06:29:50.785540Z"
    }
   },
   "outputs": [
    {
     "data": {
      "text/plain": [
       "(23000, 7, 7, 512)"
      ]
     },
     "execution_count": 51,
     "metadata": {},
     "output_type": "execute_result"
    }
   ],
   "source": [
    "train_features = bcolz.open(rootdir=train_store, mode='r')\n",
    "train_features.shape"
   ]
  },
  {
   "cell_type": "code",
   "execution_count": 52,
   "metadata": {
    "ExecuteTime": {
     "end_time": "2018-03-11T06:29:50.889628Z",
     "start_time": "2018-03-11T06:29:50.882292Z"
    }
   },
   "outputs": [
    {
     "data": {
      "text/plain": [
       "(2000, 7, 7, 512)"
      ]
     },
     "execution_count": 52,
     "metadata": {},
     "output_type": "execute_result"
    }
   ],
   "source": [
    "val_features = bcolz.open(rootdir=val_store, mode='r')\n",
    "val_features.shape"
   ]
  },
  {
   "cell_type": "code",
   "execution_count": 53,
   "metadata": {
    "ExecuteTime": {
     "end_time": "2018-03-11T06:29:50.893824Z",
     "start_time": "2018-03-11T06:29:50.890589Z"
    }
   },
   "outputs": [],
   "source": [
    "train_features.flush()\n",
    "val_features.flush()"
   ]
  },
  {
   "cell_type": "code",
   "execution_count": null,
   "metadata": {},
   "outputs": [],
   "source": []
  }
 ],
 "metadata": {
  "kernelspec": {
   "display_name": "Python [conda env:fastai]",
   "language": "python",
   "name": "conda-env-fastai-py"
  },
  "language_info": {
   "codemirror_mode": {
    "name": "ipython",
    "version": 3
   },
   "file_extension": ".py",
   "mimetype": "text/x-python",
   "name": "python",
   "nbconvert_exporter": "python",
   "pygments_lexer": "ipython3",
   "version": "3.6.3"
  }
 },
 "nbformat": 4,
 "nbformat_minor": 2
}
