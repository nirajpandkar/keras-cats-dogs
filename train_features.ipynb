{
 "cells": [
  {
   "cell_type": "markdown",
   "metadata": {},
   "source": [
    "# Compile the model"
   ]
  },
  {
   "cell_type": "code",
   "execution_count": 1,
   "metadata": {
    "ExecuteTime": {
     "end_time": "2018-03-11T11:36:09.810463Z",
     "start_time": "2018-03-11T11:36:08.473636Z"
    }
   },
   "outputs": [
    {
     "name": "stderr",
     "output_type": "stream",
     "text": [
      "Using TensorFlow backend.\n",
      "/home/niraj/anaconda3/envs/fastai/lib/python3.6/importlib/_bootstrap.py:219: RuntimeWarning: compiletime version 3.5 of module 'tensorflow.python.framework.fast_tensor_util' does not match runtime version 3.6\n",
      "  return f(*args, **kwds)\n"
     ]
    }
   ],
   "source": [
    "from keras import Sequential\n",
    "from keras.layers import Dense, Flatten, Dropout\n",
    "from keras import optimizers"
   ]
  },
  {
   "cell_type": "code",
   "execution_count": 2,
   "metadata": {
    "ExecuteTime": {
     "end_time": "2018-03-11T11:36:13.194274Z",
     "start_time": "2018-03-11T11:36:13.121351Z"
    }
   },
   "outputs": [],
   "source": [
    "model = Sequential()\n",
    "model.add(Flatten(input_shape=(7,7,512)))\n",
    "model.add(Dense(4096, activation='relu'))\n",
    "model.add(Dropout(0.5))\n",
    "model.add(Dense(4096, activation='relu'))\n",
    "model.add(Dropout(0.5))\n",
    "model.add(Dense(2, activation='softmax'))"
   ]
  },
  {
   "cell_type": "code",
   "execution_count": 5,
   "metadata": {
    "ExecuteTime": {
     "end_time": "2018-03-11T11:37:22.159352Z",
     "start_time": "2018-03-11T11:37:22.151812Z"
    }
   },
   "outputs": [],
   "source": [
    "adam = optimizers.Adam(lr=1e-6)\n",
    "# rmsprop = optimizers.RMSprop(lr=1e-6)"
   ]
  },
  {
   "cell_type": "code",
   "execution_count": 6,
   "metadata": {
    "ExecuteTime": {
     "end_time": "2018-03-11T11:37:26.343617Z",
     "start_time": "2018-03-11T11:37:26.327582Z"
    }
   },
   "outputs": [],
   "source": [
    "model.compile(optimizer= adam,\n",
    "              loss='categorical_crossentropy',\n",
    "              metrics=['accuracy'])"
   ]
  },
  {
   "cell_type": "markdown",
   "metadata": {},
   "source": [
    "# Import features from bcolz store"
   ]
  },
  {
   "cell_type": "code",
   "execution_count": 7,
   "metadata": {
    "ExecuteTime": {
     "end_time": "2018-03-11T11:37:32.235746Z",
     "start_time": "2018-03-11T11:37:32.104148Z"
    }
   },
   "outputs": [],
   "source": [
    "import bcolz"
   ]
  },
  {
   "cell_type": "code",
   "execution_count": 8,
   "metadata": {
    "ExecuteTime": {
     "end_time": "2018-03-11T11:37:32.467900Z",
     "start_time": "2018-03-11T11:37:32.454205Z"
    }
   },
   "outputs": [],
   "source": [
    "train_features = bcolz.open(rootdir='train_store', mode='r')\n",
    "val_features = bcolz.open(rootdir='val_store', mode='r')"
   ]
  },
  {
   "cell_type": "code",
   "execution_count": 9,
   "metadata": {
    "ExecuteTime": {
     "end_time": "2018-03-11T11:37:33.394364Z",
     "start_time": "2018-03-11T11:37:33.386875Z"
    }
   },
   "outputs": [
    {
     "data": {
      "text/plain": [
       "(23000, 7, 7, 512)"
      ]
     },
     "execution_count": 9,
     "metadata": {},
     "output_type": "execute_result"
    }
   ],
   "source": [
    "train_features.shape"
   ]
  },
  {
   "cell_type": "code",
   "execution_count": 10,
   "metadata": {
    "ExecuteTime": {
     "end_time": "2018-03-11T11:37:33.877302Z",
     "start_time": "2018-03-11T11:37:33.868294Z"
    }
   },
   "outputs": [
    {
     "data": {
      "text/plain": [
       "(2000, 7, 7, 512)"
      ]
     },
     "execution_count": 10,
     "metadata": {},
     "output_type": "execute_result"
    }
   ],
   "source": [
    "val_features.shape"
   ]
  },
  {
   "cell_type": "markdown",
   "metadata": {},
   "source": [
    "# Import labels from pickle file"
   ]
  },
  {
   "cell_type": "code",
   "execution_count": 11,
   "metadata": {
    "ExecuteTime": {
     "end_time": "2018-03-11T11:37:37.346465Z",
     "start_time": "2018-03-11T11:37:37.344727Z"
    }
   },
   "outputs": [],
   "source": [
    "import pickle"
   ]
  },
  {
   "cell_type": "code",
   "execution_count": 12,
   "metadata": {
    "ExecuteTime": {
     "end_time": "2018-03-11T11:37:38.442028Z",
     "start_time": "2018-03-11T11:37:38.431416Z"
    }
   },
   "outputs": [],
   "source": [
    "with open(\"train_labels.pkl\", \"rb\") as f:\n",
    "    train_labels = pickle.load(f)\n",
    "f.close()\n",
    "\n",
    "with open(\"val_labels.pkl\", \"rb\") as f:\n",
    "    val_labels = pickle.load(f)\n",
    "f.close()"
   ]
  },
  {
   "cell_type": "code",
   "execution_count": 13,
   "metadata": {
    "ExecuteTime": {
     "end_time": "2018-03-11T11:37:42.602537Z",
     "start_time": "2018-03-11T11:37:42.599728Z"
    }
   },
   "outputs": [
    {
     "data": {
      "text/plain": [
       "array([[ 1.,  0.],\n",
       "       [ 1.,  0.],\n",
       "       [ 1.,  0.],\n",
       "       ..., \n",
       "       [ 0.,  1.],\n",
       "       [ 0.,  1.],\n",
       "       [ 0.,  1.]])"
      ]
     },
     "execution_count": 13,
     "metadata": {},
     "output_type": "execute_result"
    }
   ],
   "source": [
    "train_labels"
   ]
  },
  {
   "cell_type": "code",
   "execution_count": 14,
   "metadata": {
    "ExecuteTime": {
     "end_time": "2018-03-11T11:37:42.765874Z",
     "start_time": "2018-03-11T11:37:42.756749Z"
    }
   },
   "outputs": [
    {
     "data": {
      "text/plain": [
       "array([[ 1.,  0.],\n",
       "       [ 1.,  0.],\n",
       "       [ 1.,  0.],\n",
       "       ..., \n",
       "       [ 0.,  1.],\n",
       "       [ 0.,  1.],\n",
       "       [ 0.,  1.]])"
      ]
     },
     "execution_count": 14,
     "metadata": {},
     "output_type": "execute_result"
    }
   ],
   "source": [
    "val_labels"
   ]
  },
  {
   "cell_type": "markdown",
   "metadata": {},
   "source": [
    "# Initialize keras callbacks"
   ]
  },
  {
   "cell_type": "code",
   "execution_count": 15,
   "metadata": {
    "ExecuteTime": {
     "end_time": "2018-03-11T11:37:44.521339Z",
     "start_time": "2018-03-11T11:37:44.519358Z"
    }
   },
   "outputs": [],
   "source": [
    "from keras.callbacks import TensorBoard, ModelCheckpoint, CSVLogger, EarlyStopping"
   ]
  },
  {
   "cell_type": "code",
   "execution_count": 16,
   "metadata": {
    "ExecuteTime": {
     "end_time": "2018-03-11T11:37:50.145148Z",
     "start_time": "2018-03-11T11:37:44.860526Z"
    }
   },
   "outputs": [],
   "source": [
    "tb = TensorBoard(log_dir='./logs', batch_size=64, write_images=True, write_graph=True)"
   ]
  },
  {
   "cell_type": "code",
   "execution_count": 17,
   "metadata": {
    "ExecuteTime": {
     "end_time": "2018-03-11T11:37:50.148225Z",
     "start_time": "2018-03-11T11:37:50.146347Z"
    }
   },
   "outputs": [],
   "source": [
    "mc = ModelCheckpoint('./models/weights.{epoch:02d}-{val_loss:.3f}.hdf5', save_best_only=True)"
   ]
  },
  {
   "cell_type": "code",
   "execution_count": 18,
   "metadata": {
    "ExecuteTime": {
     "end_time": "2018-03-11T11:37:50.155608Z",
     "start_time": "2018-03-11T11:37:50.149366Z"
    }
   },
   "outputs": [],
   "source": [
    "cl = CSVLogger('./CSV/baseline.csv', separator=',')"
   ]
  },
  {
   "cell_type": "code",
   "execution_count": 19,
   "metadata": {
    "ExecuteTime": {
     "end_time": "2018-03-11T11:37:50.160348Z",
     "start_time": "2018-03-11T11:37:50.156701Z"
    }
   },
   "outputs": [],
   "source": [
    "es = EarlyStopping(monitor='val_loss', patience=5)"
   ]
  },
  {
   "cell_type": "markdown",
   "metadata": {},
   "source": [
    "# Fit the model to the features"
   ]
  },
  {
   "cell_type": "code",
   "execution_count": null,
   "metadata": {
    "ExecuteTime": {
     "start_time": "2018-03-11T11:37:57.042Z"
    }
   },
   "outputs": [
    {
     "name": "stdout",
     "output_type": "stream",
     "text": [
      "Train on 23000 samples, validate on 2000 samples\n",
      "Epoch 1/10\n",
      "23000/23000 [==============================] - 29s 1ms/step - loss: 3.0423 - acc: 0.7345 - val_loss: 0.2612 - val_acc: 0.9610\n",
      "Epoch 2/10\n",
      "23000/23000 [==============================] - 27s 1ms/step - loss: 1.1483 - acc: 0.8916 - val_loss: 0.1956 - val_acc: 0.9725\n",
      "Epoch 3/10\n",
      "23000/23000 [==============================] - 27s 1ms/step - loss: 0.7919 - acc: 0.9243 - val_loss: 0.1892 - val_acc: 0.9780\n",
      "Epoch 4/10\n",
      "23000/23000 [==============================] - 27s 1ms/step - loss: 0.6591 - acc: 0.9376 - val_loss: 0.1817 - val_acc: 0.9780\n",
      "Epoch 5/10\n",
      "23000/23000 [==============================] - 26s 1ms/step - loss: 0.5152 - acc: 0.9509 - val_loss: 0.1809 - val_acc: 0.9790\n",
      "Epoch 6/10\n",
      "23000/23000 [==============================] - 26s 1ms/step - loss: 0.4622 - acc: 0.9551 - val_loss: 0.1793 - val_acc: 0.9800\n",
      "Epoch 7/10\n",
      "23000/23000 [==============================] - 25s 1ms/step - loss: 0.3967 - acc: 0.9632 - val_loss: 0.1832 - val_acc: 0.9805\n",
      "Epoch 8/10\n",
      "23000/23000 [==============================] - 25s 1ms/step - loss: 0.3530 - acc: 0.9657 - val_loss: 0.1854 - val_acc: 0.9805\n",
      "Epoch 9/10\n",
      " 3008/23000 [==>...........................] - ETA: 21s - loss: 0.3616 - acc: 0.9671"
     ]
    }
   ],
   "source": [
    "model.fit(train_features, \n",
    "          train_labels, \n",
    "          batch_size=64, \n",
    "          epochs=10, \n",
    "          callbacks = [tb, mc, cl, es],\n",
    "          validation_data=(val_features, val_labels),\n",
    "         )"
   ]
  },
  {
   "cell_type": "markdown",
   "metadata": {},
   "source": [
    "# TODO\n",
    "\n",
    "* Try data augmentation\n",
    "* Try adding dropout and batch normalization\n",
    "* L2 Regualizer maybe?\n",
    "* Submit"
   ]
  }
 ],
 "metadata": {
  "kernelspec": {
   "display_name": "Python [conda env:fastai]",
   "language": "python",
   "name": "conda-env-fastai-py"
  },
  "language_info": {
   "codemirror_mode": {
    "name": "ipython",
    "version": 3
   },
   "file_extension": ".py",
   "mimetype": "text/x-python",
   "name": "python",
   "nbconvert_exporter": "python",
   "pygments_lexer": "ipython3",
   "version": "3.6.3"
  }
 },
 "nbformat": 4,
 "nbformat_minor": 2
}
